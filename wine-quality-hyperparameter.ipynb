{
 "cells": [
  {
   "cell_type": "markdown",
   "metadata": {},
   "source": [
    "# Hyperparameter tuning with MLFlow and Optuna"
   ]
  },
  {
   "cell_type": "markdown",
   "metadata": {},
   "source": [
    "Setting up and training a ElasticNet model with hyperparameter tuning using Optuna and MLFlow. As seen in this [post]()"
   ]
  },
  {
   "cell_type": "markdown",
   "metadata": {},
   "source": [
    "## Dependencies"
   ]
  },
  {
   "cell_type": "code",
   "execution_count": 1,
   "metadata": {},
   "outputs": [],
   "source": [
    "import mlflow\n",
    "import numpy as np\n",
    "import optuna\n",
    "from optuna.integration.mlflow import MLflowCallback\n",
    "import pandas as pd\n",
    "from sklearn.linear_model import ElasticNet\n",
    "from sklearn.metrics import mean_squared_error\n",
    "from sklearn.model_selection import train_test_split\n",
    "from datetime import datetime\n",
    "\n",
    "import warnings\n",
    "warnings.filterwarnings('ignore')"
   ]
  },
  {
   "cell_type": "markdown",
   "metadata": {},
   "source": [
    "## Setup"
   ]
  },
  {
   "cell_type": "markdown",
   "metadata": {},
   "source": [
    "This dataset is from UCI's [machine learning repository](http://archive.ics.uci.edu/dataset/186/wine+quality). For this example, I'm replicating MLFlow's tutorial (you can find it [here](https://mlflow.org/docs/latest/tutorials-and-examples/tutorial.html))."
   ]
  },
  {
   "cell_type": "code",
   "execution_count": 2,
   "metadata": {},
   "outputs": [],
   "source": [
    "CSV_URL = \"https://raw.githubusercontent.com/mlflow/mlflow/master/tests/datasets/winequality-red.csv\"\n",
    "TEST_SIZE = 0.25\n",
    "RANDOM_STATE = 42\n",
    "TRACKING_URI = \"http://127.0.0.1:5000\""
   ]
  },
  {
   "cell_type": "code",
   "execution_count": 3,
   "metadata": {},
   "outputs": [],
   "source": [
    "def load() -> pd.DataFrame:\n",
    "    \"\"\"\n",
    "    Load the wine-quality csv file from the URL.\n",
    "\n",
    "    Returns:\n",
    "        pd.DataFrame: The wine-quality dataset.\n",
    "    \"\"\"\n",
    "    try:\n",
    "        data = pd.read_csv(CSV_URL, sep=\";\")\n",
    "    except Exception as e:\n",
    "        print(\n",
    "            \"Unable to download training & test CSV, \"\n",
    "            \"check your internet connection. Error: %s\", e\n",
    "        )\n",
    "\n",
    "    return data\n",
    "\n",
    "def prepare(data: pd.DataFrame) -> (np.ndarray, np.ndarray):\n",
    "    \"\"\"\n",
    "    Prepare the wine-quality dataset for training.\n",
    "\n",
    "    Args:\n",
    "        data (pd.DataFrame): The wine-quality dataset.\n",
    "\n",
    "    Returns:\n",
    "        np.ndarray: The features of the wine-quality dataset.\n",
    "        np.ndarray: The labels of the wine-quality dataset.\n",
    "    \"\"\"\n",
    "    x = data.drop([\"quality\"], axis=1)\n",
    "    y = data[[\"quality\"]]\n",
    "\n",
    "    return x, y\n",
    "\n"
   ]
  },
  {
   "cell_type": "markdown",
   "metadata": {},
   "source": [
    "## Load and prepare data"
   ]
  },
  {
   "cell_type": "code",
   "execution_count": 4,
   "metadata": {},
   "outputs": [],
   "source": [
    "data = load()\n",
    "x, y = prepare(data)\n",
    "x_train, x_test, y_train, y_test = train_test_split(x, y, test_size=TEST_SIZE, random_state=RANDOM_STATE)\n"
   ]
  },
  {
   "cell_type": "markdown",
   "metadata": {},
   "source": [
    "## Hyperparameter search"
   ]
  },
  {
   "cell_type": "markdown",
   "metadata": {},
   "source": [
    "### Setup MLFlow"
   ]
  },
  {
   "cell_type": "code",
   "execution_count": 5,
   "metadata": {},
   "outputs": [],
   "source": [
    "mlflow.set_tracking_uri(TRACKING_URI)\n",
    "tracking_uri = mlflow.get_tracking_uri()\n"
   ]
  },
  {
   "cell_type": "code",
   "execution_count": 6,
   "metadata": {},
   "outputs": [],
   "source": [
    "mlflc = MLflowCallback(\n",
    "    tracking_uri=tracking_uri,\n",
    "    metric_name=\"rmse\",\n",
    ")\n"
   ]
  },
  {
   "cell_type": "markdown",
   "metadata": {},
   "source": [
    "### Setup Optuna"
   ]
  },
  {
   "cell_type": "markdown",
   "metadata": {},
   "source": [
    "Objective function, finding minimum RMSE,"
   ]
  },
  {
   "cell_type": "code",
   "execution_count": 7,
   "metadata": {},
   "outputs": [],
   "source": [
    "@mlflc.track_in_mlflow()\n",
    "def objective(trial: optuna.trial.Trial) -> float:\n",
    "    \"\"\"\n",
    "    Optuna objective function for hyperparameter tuning of a regression model.\n",
    "\n",
    "    Args:\n",
    "        trial: An Optuna `Trial` object used to sample hyperparameters.\n",
    "        x_train: A numpy array of shape `(n_samples, n_features)` containing\n",
    "            the training data.\n",
    "        y_train: A numpy array of shape `(n_samples,)` containing the target\n",
    "            values for the training data.\n",
    "        x_test: A numpy array of shape `(n_samples, n_features)` containing\n",
    "            the test data.\n",
    "        y_test: A numpy array of shape `(n_samples,)` containing the target\n",
    "            values for the test data.\n",
    "\n",
    "    Returns:\n",
    "        The root mean squared error (RMSE) of the regression model on the test\n",
    "            data.\n",
    "    \"\"\"\n",
    "    params = {\n",
    "        \"alpha\": trial.suggest_float(\"alpha\", 0.05, 1.0, step=0.05),\n",
    "        \"l1_ratio\": trial.suggest_float(\"l1_ratio\", 0.05, 1.0, step=0.05),\n",
    "    }\n",
    "    model = ElasticNet(**params)\n",
    "    model.fit(x_train, y_train)\n",
    "    mlflow.sklearn.log_model(model, \"model\")\n",
    "    y_pred = model.predict(x_test)\n",
    "    rmse = np.sqrt(mean_squared_error(y_test, y_pred))\n",
    "\n",
    "    return rmse\n"
   ]
  },
  {
   "cell_type": "markdown",
   "metadata": {},
   "source": [
    "## Training"
   ]
  },
  {
   "cell_type": "code",
   "execution_count": 8,
   "metadata": {},
   "outputs": [
    {
     "name": "stderr",
     "output_type": "stream",
     "text": [
      "[I 2023-08-31 16:29:17,886] A new study created in memory with name: elastic_net_20230831_162917\n",
      "2023/08/31 16:29:17 INFO mlflow.tracking.fluent: Experiment with name 'elastic_net_20230831_162917' does not exist. Creating a new experiment.\n",
      "[I 2023-08-31 16:29:19,573] Trial 0 finished with value: 0.7383336363712971 and parameters: {'alpha': 0.55, 'l1_ratio': 0.4}. Best is trial 0 with value: 0.7383336363712971.\n",
      "[I 2023-08-31 16:29:20,819] Trial 1 finished with value: 0.7850026425141758 and parameters: {'alpha': 0.8500000000000001, 'l1_ratio': 0.7500000000000001}. Best is trial 0 with value: 0.7383336363712971.\n",
      "[I 2023-08-31 16:29:22,011] Trial 2 finished with value: 0.7330321305614628 and parameters: {'alpha': 0.55, 'l1_ratio': 0.35000000000000003}. Best is trial 2 with value: 0.7330321305614628.\n",
      "[I 2023-08-31 16:29:23,221] Trial 3 finished with value: 0.7849385305823857 and parameters: {'alpha': 0.7500000000000001, 'l1_ratio': 0.6500000000000001}. Best is trial 2 with value: 0.7330321305614628.\n",
      "[I 2023-08-31 16:29:24,499] Trial 4 finished with value: 0.7846999006403452 and parameters: {'alpha': 0.55, 'l1_ratio': 0.8500000000000001}. Best is trial 2 with value: 0.7330321305614628.\n",
      "[I 2023-08-31 16:29:25,764] Trial 5 finished with value: 0.7470961306776773 and parameters: {'alpha': 0.7000000000000001, 'l1_ratio': 0.35000000000000003}. Best is trial 2 with value: 0.7330321305614628.\n",
      "[I 2023-08-31 16:29:26,915] Trial 6 finished with value: 0.7390917445731928 and parameters: {'alpha': 0.9000000000000001, 'l1_ratio': 0.2}. Best is trial 2 with value: 0.7330321305614628.\n",
      "[I 2023-08-31 16:29:28,124] Trial 7 finished with value: 0.6595536300473237 and parameters: {'alpha': 0.05, 'l1_ratio': 0.1}. Best is trial 7 with value: 0.6595536300473237.\n",
      "[I 2023-08-31 16:29:29,286] Trial 8 finished with value: 0.7143045996189806 and parameters: {'alpha': 0.2, 'l1_ratio': 0.7500000000000001}. Best is trial 7 with value: 0.6595536300473237.\n",
      "[I 2023-08-31 16:29:30,504] Trial 9 finished with value: 0.7843978111661276 and parameters: {'alpha': 0.55, 'l1_ratio': 0.8}. Best is trial 7 with value: 0.6595536300473237.\n",
      "[I 2023-08-31 16:29:31,769] Trial 10 finished with value: 0.657680014978605 and parameters: {'alpha': 0.05, 'l1_ratio': 0.05}. Best is trial 10 with value: 0.657680014978605.\n",
      "[I 2023-08-31 16:29:32,978] Trial 11 finished with value: 0.657680014978605 and parameters: {'alpha': 0.05, 'l1_ratio': 0.05}. Best is trial 10 with value: 0.657680014978605.\n",
      "[I 2023-08-31 16:29:34,223] Trial 12 finished with value: 0.6832836448260411 and parameters: {'alpha': 0.25, 'l1_ratio': 0.05}. Best is trial 10 with value: 0.657680014978605.\n",
      "[I 2023-08-31 16:29:35,450] Trial 13 finished with value: 0.6907593634468839 and parameters: {'alpha': 0.05, 'l1_ratio': 1.0}. Best is trial 10 with value: 0.657680014978605.\n",
      "[I 2023-08-31 16:29:36,643] Trial 14 finished with value: 0.6982140773499571 and parameters: {'alpha': 0.3, 'l1_ratio': 0.2}. Best is trial 10 with value: 0.657680014978605.\n",
      "[I 2023-08-31 16:29:37,842] Trial 15 finished with value: 0.7239465650134308 and parameters: {'alpha': 0.35000000000000003, 'l1_ratio': 0.5}. Best is trial 10 with value: 0.657680014978605.\n",
      "[I 2023-08-31 16:29:39,052] Trial 16 finished with value: 0.6837173832563269 and parameters: {'alpha': 0.15000000000000002, 'l1_ratio': 0.15000000000000002}. Best is trial 10 with value: 0.657680014978605.\n",
      "[I 2023-08-31 16:29:40,279] Trial 17 finished with value: 0.70895217766925 and parameters: {'alpha': 0.4, 'l1_ratio': 0.25}. Best is trial 10 with value: 0.657680014978605.\n",
      "[I 2023-08-31 16:29:41,513] Trial 18 finished with value: 0.6752568956295356 and parameters: {'alpha': 0.15000000000000002, 'l1_ratio': 0.05}. Best is trial 10 with value: 0.657680014978605.\n",
      "[I 2023-08-31 16:29:42,715] Trial 19 finished with value: 0.7340699172154007 and parameters: {'alpha': 0.4, 'l1_ratio': 0.55}. Best is trial 10 with value: 0.657680014978605.\n",
      "[I 2023-08-31 16:29:43,929] Trial 20 finished with value: 0.6670977820374063 and parameters: {'alpha': 0.05, 'l1_ratio': 0.3}. Best is trial 10 with value: 0.657680014978605.\n",
      "[I 2023-08-31 16:29:45,145] Trial 21 finished with value: 0.6595536300473237 and parameters: {'alpha': 0.05, 'l1_ratio': 0.1}. Best is trial 10 with value: 0.657680014978605.\n",
      "[I 2023-08-31 16:29:46,352] Trial 22 finished with value: 0.6689001478284335 and parameters: {'alpha': 0.1, 'l1_ratio': 0.05}. Best is trial 10 with value: 0.657680014978605.\n",
      "[I 2023-08-31 16:29:47,576] Trial 23 finished with value: 0.6931851571489858 and parameters: {'alpha': 0.25, 'l1_ratio': 0.15000000000000002}. Best is trial 10 with value: 0.657680014978605.\n",
      "[I 2023-08-31 16:29:48,773] Trial 24 finished with value: 0.7365232649033919 and parameters: {'alpha': 1.0, 'l1_ratio': 0.15000000000000002}. Best is trial 10 with value: 0.657680014978605.\n",
      "[I 2023-08-31 16:29:50,033] Trial 25 finished with value: 0.6950912184936372 and parameters: {'alpha': 0.15000000000000002, 'l1_ratio': 0.45}. Best is trial 10 with value: 0.657680014978605.\n",
      "[I 2023-08-31 16:29:51,211] Trial 26 finished with value: 0.6939197021350278 and parameters: {'alpha': 0.2, 'l1_ratio': 0.25}. Best is trial 10 with value: 0.657680014978605.\n",
      "[I 2023-08-31 16:29:52,410] Trial 27 finished with value: 0.6943273686749557 and parameters: {'alpha': 0.45, 'l1_ratio': 0.05}. Best is trial 10 with value: 0.657680014978605.\n",
      "[I 2023-08-31 16:29:53,598] Trial 28 finished with value: 0.6827562846058248 and parameters: {'alpha': 0.1, 'l1_ratio': 0.25}. Best is trial 10 with value: 0.657680014978605.\n",
      "[I 2023-08-31 16:29:54,803] Trial 29 finished with value: 0.749425471602795 and parameters: {'alpha': 0.6500000000000001, 'l1_ratio': 0.4}. Best is trial 10 with value: 0.657680014978605.\n",
      "[I 2023-08-31 16:29:56,059] Trial 30 finished with value: 0.6921230383176631 and parameters: {'alpha': 0.3, 'l1_ratio': 0.1}. Best is trial 10 with value: 0.657680014978605.\n",
      "[I 2023-08-31 16:29:57,191] Trial 31 finished with value: 0.6595536300473237 and parameters: {'alpha': 0.05, 'l1_ratio': 0.1}. Best is trial 10 with value: 0.657680014978605.\n",
      "[I 2023-08-31 16:29:58,437] Trial 32 finished with value: 0.6613305597955911 and parameters: {'alpha': 0.05, 'l1_ratio': 0.15000000000000002}. Best is trial 10 with value: 0.657680014978605.\n",
      "[I 2023-08-31 16:29:59,649] Trial 33 finished with value: 0.6720681915647143 and parameters: {'alpha': 0.1, 'l1_ratio': 0.1}. Best is trial 10 with value: 0.657680014978605.\n",
      "[I 2023-08-31 16:30:00,888] Trial 34 finished with value: 0.6926302996485334 and parameters: {'alpha': 0.2, 'l1_ratio': 0.2}. Best is trial 10 with value: 0.657680014978605.\n",
      "[I 2023-08-31 16:30:02,174] Trial 35 finished with value: 0.6854930660913824 and parameters: {'alpha': 0.1, 'l1_ratio': 0.3}. Best is trial 10 with value: 0.657680014978605.\n",
      "[I 2023-08-31 16:30:03,308] Trial 36 finished with value: 0.6794528676261647 and parameters: {'alpha': 0.15000000000000002, 'l1_ratio': 0.1}. Best is trial 10 with value: 0.657680014978605.\n",
      "[I 2023-08-31 16:30:04,582] Trial 37 finished with value: 0.716147049352035 and parameters: {'alpha': 0.25, 'l1_ratio': 0.6000000000000001}. Best is trial 10 with value: 0.657680014978605.\n",
      "[I 2023-08-31 16:30:05,908] Trial 38 finished with value: 0.669418493888747 and parameters: {'alpha': 0.05, 'l1_ratio': 0.35000000000000003}. Best is trial 10 with value: 0.657680014978605.\n",
      "[I 2023-08-31 16:30:07,142] Trial 39 finished with value: 0.7338171490145394 and parameters: {'alpha': 0.8, 'l1_ratio': 0.2}. Best is trial 10 with value: 0.657680014978605.\n",
      "[I 2023-08-31 16:30:08,354] Trial 40 finished with value: 0.7031439259234781 and parameters: {'alpha': 0.6500000000000001, 'l1_ratio': 0.05}. Best is trial 10 with value: 0.657680014978605.\n",
      "[I 2023-08-31 16:30:09,482] Trial 41 finished with value: 0.6595536300473237 and parameters: {'alpha': 0.05, 'l1_ratio': 0.1}. Best is trial 10 with value: 0.657680014978605.\n",
      "[I 2023-08-31 16:30:10,720] Trial 42 finished with value: 0.6720681915647143 and parameters: {'alpha': 0.1, 'l1_ratio': 0.1}. Best is trial 10 with value: 0.657680014978605.\n",
      "[I 2023-08-31 16:30:11,971] Trial 43 finished with value: 0.6890870189328233 and parameters: {'alpha': 0.2, 'l1_ratio': 0.15000000000000002}. Best is trial 10 with value: 0.657680014978605.\n",
      "[I 2023-08-31 16:30:13,207] Trial 44 finished with value: 0.657680014978605 and parameters: {'alpha': 0.05, 'l1_ratio': 0.05}. Best is trial 10 with value: 0.657680014978605.\n",
      "[I 2023-08-31 16:30:14,456] Trial 45 finished with value: 0.7124203137622808 and parameters: {'alpha': 0.15000000000000002, 'l1_ratio': 1.0}. Best is trial 10 with value: 0.657680014978605.\n",
      "[I 2023-08-31 16:30:15,655] Trial 46 finished with value: 0.6689001478284335 and parameters: {'alpha': 0.1, 'l1_ratio': 0.05}. Best is trial 10 with value: 0.657680014978605.\n",
      "[I 2023-08-31 16:30:16,879] Trial 47 finished with value: 0.743204383259376 and parameters: {'alpha': 0.3, 'l1_ratio': 0.9000000000000001}. Best is trial 10 with value: 0.657680014978605.\n",
      "[I 2023-08-31 16:30:18,112] Trial 48 finished with value: 0.6926302996485334 and parameters: {'alpha': 0.2, 'l1_ratio': 0.2}. Best is trial 10 with value: 0.657680014978605.\n",
      "[I 2023-08-31 16:30:19,291] Trial 49 finished with value: 0.7730532405731162 and parameters: {'alpha': 0.5, 'l1_ratio': 0.7000000000000001}. Best is trial 10 with value: 0.657680014978605.\n",
      "[I 2023-08-31 16:30:20,504] Trial 50 finished with value: 0.6670977820374063 and parameters: {'alpha': 0.05, 'l1_ratio': 0.3}. Best is trial 10 with value: 0.657680014978605.\n",
      "[I 2023-08-31 16:30:21,729] Trial 51 finished with value: 0.6595536300473237 and parameters: {'alpha': 0.05, 'l1_ratio': 0.1}. Best is trial 10 with value: 0.657680014978605.\n",
      "[I 2023-08-31 16:30:22,985] Trial 52 finished with value: 0.6752568956295356 and parameters: {'alpha': 0.15000000000000002, 'l1_ratio': 0.05}. Best is trial 10 with value: 0.657680014978605.\n",
      "[I 2023-08-31 16:30:24,221] Trial 53 finished with value: 0.6753614652984075 and parameters: {'alpha': 0.1, 'l1_ratio': 0.15000000000000002}. Best is trial 10 with value: 0.657680014978605.\n",
      "[I 2023-08-31 16:30:25,444] Trial 54 finished with value: 0.6595536300473237 and parameters: {'alpha': 0.05, 'l1_ratio': 0.1}. Best is trial 10 with value: 0.657680014978605.\n",
      "[I 2023-08-31 16:30:26,593] Trial 55 finished with value: 0.6909815615413109 and parameters: {'alpha': 0.15000000000000002, 'l1_ratio': 0.25}. Best is trial 10 with value: 0.657680014978605.\n",
      "[I 2023-08-31 16:30:27,825] Trial 56 finished with value: 0.657680014978605 and parameters: {'alpha': 0.05, 'l1_ratio': 0.05}. Best is trial 10 with value: 0.657680014978605.\n",
      "[I 2023-08-31 16:30:29,002] Trial 57 finished with value: 0.6689001478284335 and parameters: {'alpha': 0.1, 'l1_ratio': 0.05}. Best is trial 10 with value: 0.657680014978605.\n",
      "[I 2023-08-31 16:30:30,276] Trial 58 finished with value: 0.6952544923688759 and parameters: {'alpha': 0.25, 'l1_ratio': 0.2}. Best is trial 10 with value: 0.657680014978605.\n",
      "[I 2023-08-31 16:30:31,504] Trial 59 finished with value: 0.6753614652984075 and parameters: {'alpha': 0.1, 'l1_ratio': 0.15000000000000002}. Best is trial 10 with value: 0.657680014978605.\n",
      "[I 2023-08-31 16:30:32,671] Trial 60 finished with value: 0.7126219950882801 and parameters: {'alpha': 0.9000000000000001, 'l1_ratio': 0.05}. Best is trial 10 with value: 0.657680014978605.\n",
      "[I 2023-08-31 16:30:33,843] Trial 61 finished with value: 0.6595536300473237 and parameters: {'alpha': 0.05, 'l1_ratio': 0.1}. Best is trial 10 with value: 0.657680014978605.\n",
      "[I 2023-08-31 16:30:35,074] Trial 62 finished with value: 0.6613305597955911 and parameters: {'alpha': 0.05, 'l1_ratio': 0.15000000000000002}. Best is trial 10 with value: 0.657680014978605.\n",
      "[I 2023-08-31 16:30:36,301] Trial 63 finished with value: 0.657680014978605 and parameters: {'alpha': 0.05, 'l1_ratio': 0.05}. Best is trial 10 with value: 0.657680014978605.\n",
      "[I 2023-08-31 16:30:37,427] Trial 64 finished with value: 0.6752568956295356 and parameters: {'alpha': 0.15000000000000002, 'l1_ratio': 0.05}. Best is trial 10 with value: 0.657680014978605.\n",
      "[I 2023-08-31 16:30:38,628] Trial 65 finished with value: 0.6689001478284335 and parameters: {'alpha': 0.1, 'l1_ratio': 0.05}. Best is trial 10 with value: 0.657680014978605.\n",
      "[I 2023-08-31 16:30:39,847] Trial 66 finished with value: 0.6846172586851059 and parameters: {'alpha': 0.2, 'l1_ratio': 0.1}. Best is trial 10 with value: 0.657680014978605.\n",
      "[I 2023-08-31 16:30:41,040] Trial 67 finished with value: 0.6613305597955911 and parameters: {'alpha': 0.05, 'l1_ratio': 0.15000000000000002}. Best is trial 10 with value: 0.657680014978605.\n",
      "[I 2023-08-31 16:30:42,191] Trial 68 finished with value: 0.6874740192736716 and parameters: {'alpha': 0.15000000000000002, 'l1_ratio': 0.2}. Best is trial 10 with value: 0.657680014978605.\n",
      "[I 2023-08-31 16:30:43,426] Trial 69 finished with value: 0.6689001478284335 and parameters: {'alpha': 0.1, 'l1_ratio': 0.05}. Best is trial 10 with value: 0.657680014978605.\n",
      "[I 2023-08-31 16:30:44,605] Trial 70 finished with value: 0.7023096386686255 and parameters: {'alpha': 0.2, 'l1_ratio': 0.5}. Best is trial 10 with value: 0.657680014978605.\n",
      "[I 2023-08-31 16:30:45,861] Trial 71 finished with value: 0.6595536300473237 and parameters: {'alpha': 0.05, 'l1_ratio': 0.1}. Best is trial 10 with value: 0.657680014978605.\n",
      "[I 2023-08-31 16:30:47,048] Trial 72 finished with value: 0.6595536300473237 and parameters: {'alpha': 0.05, 'l1_ratio': 0.1}. Best is trial 10 with value: 0.657680014978605.\n",
      "[I 2023-08-31 16:30:48,281] Trial 73 finished with value: 0.6689001478284335 and parameters: {'alpha': 0.1, 'l1_ratio': 0.05}. Best is trial 10 with value: 0.657680014978605.\n",
      "[I 2023-08-31 16:30:49,475] Trial 74 finished with value: 0.6613305597955911 and parameters: {'alpha': 0.05, 'l1_ratio': 0.15000000000000002}. Best is trial 10 with value: 0.657680014978605.\n",
      "[I 2023-08-31 16:30:50,694] Trial 75 finished with value: 0.6720681915647143 and parameters: {'alpha': 0.1, 'l1_ratio': 0.1}. Best is trial 10 with value: 0.657680014978605.\n",
      "[I 2023-08-31 16:30:51,884] Trial 76 finished with value: 0.6874740192736716 and parameters: {'alpha': 0.15000000000000002, 'l1_ratio': 0.2}. Best is trial 10 with value: 0.657680014978605.\n",
      "[I 2023-08-31 16:30:53,099] Trial 77 finished with value: 0.689260087228175 and parameters: {'alpha': 0.35000000000000003, 'l1_ratio': 0.05}. Best is trial 10 with value: 0.657680014978605.\n",
      "[I 2023-08-31 16:30:54,274] Trial 78 finished with value: 0.6837173832563269 and parameters: {'alpha': 0.15000000000000002, 'l1_ratio': 0.15000000000000002}. Best is trial 10 with value: 0.657680014978605.\n",
      "[I 2023-08-31 16:30:55,534] Trial 79 finished with value: 0.7071861805071504 and parameters: {'alpha': 0.6000000000000001, 'l1_ratio': 0.1}. Best is trial 10 with value: 0.657680014978605.\n",
      "[I 2023-08-31 16:30:56,709] Trial 80 finished with value: 0.657680014978605 and parameters: {'alpha': 0.05, 'l1_ratio': 0.05}. Best is trial 10 with value: 0.657680014978605.\n",
      "[I 2023-08-31 16:30:57,962] Trial 81 finished with value: 0.657680014978605 and parameters: {'alpha': 0.05, 'l1_ratio': 0.05}. Best is trial 10 with value: 0.657680014978605.\n",
      "[I 2023-08-31 16:30:59,180] Trial 82 finished with value: 0.6689001478284335 and parameters: {'alpha': 0.1, 'l1_ratio': 0.05}. Best is trial 10 with value: 0.657680014978605.\n",
      "[I 2023-08-31 16:31:00,415] Trial 83 finished with value: 0.657680014978605 and parameters: {'alpha': 0.05, 'l1_ratio': 0.05}. Best is trial 10 with value: 0.657680014978605.\n",
      "[I 2023-08-31 16:31:01,609] Trial 84 finished with value: 0.657680014978605 and parameters: {'alpha': 0.05, 'l1_ratio': 0.05}. Best is trial 10 with value: 0.657680014978605.\n",
      "[I 2023-08-31 16:31:02,819] Trial 85 finished with value: 0.657680014978605 and parameters: {'alpha': 0.05, 'l1_ratio': 0.05}. Best is trial 10 with value: 0.657680014978605.\n",
      "[I 2023-08-31 16:31:04,017] Trial 86 finished with value: 0.657680014978605 and parameters: {'alpha': 0.05, 'l1_ratio': 0.05}. Best is trial 10 with value: 0.657680014978605.\n",
      "[I 2023-08-31 16:31:05,301] Trial 87 finished with value: 0.6753614652984075 and parameters: {'alpha': 0.1, 'l1_ratio': 0.15000000000000002}. Best is trial 10 with value: 0.657680014978605.\n",
      "[I 2023-08-31 16:31:06,504] Trial 88 finished with value: 0.6689001478284335 and parameters: {'alpha': 0.1, 'l1_ratio': 0.05}. Best is trial 10 with value: 0.657680014978605.\n",
      "[I 2023-08-31 16:31:07,711] Trial 89 finished with value: 0.6595536300473237 and parameters: {'alpha': 0.05, 'l1_ratio': 0.1}. Best is trial 10 with value: 0.657680014978605.\n",
      "[I 2023-08-31 16:31:08,931] Trial 90 finished with value: 0.6752568956295356 and parameters: {'alpha': 0.15000000000000002, 'l1_ratio': 0.05}. Best is trial 10 with value: 0.657680014978605.\n",
      "[I 2023-08-31 16:31:10,109] Trial 91 finished with value: 0.657680014978605 and parameters: {'alpha': 0.05, 'l1_ratio': 0.05}. Best is trial 10 with value: 0.657680014978605.\n",
      "[I 2023-08-31 16:31:11,286] Trial 92 finished with value: 0.6595536300473237 and parameters: {'alpha': 0.05, 'l1_ratio': 0.1}. Best is trial 10 with value: 0.657680014978605.\n",
      "[I 2023-08-31 16:31:12,426] Trial 93 finished with value: 0.6689001478284335 and parameters: {'alpha': 0.1, 'l1_ratio': 0.05}. Best is trial 10 with value: 0.657680014978605.\n",
      "[I 2023-08-31 16:31:13,637] Trial 94 finished with value: 0.690511223468549 and parameters: {'alpha': 0.05, 'l1_ratio': 0.9500000000000001}. Best is trial 10 with value: 0.657680014978605.\n",
      "[I 2023-08-31 16:31:14,801] Trial 95 finished with value: 0.6720681915647143 and parameters: {'alpha': 0.1, 'l1_ratio': 0.1}. Best is trial 10 with value: 0.657680014978605.\n",
      "[I 2023-08-31 16:31:16,093] Trial 96 finished with value: 0.6896027178520016 and parameters: {'alpha': 0.05, 'l1_ratio': 0.7500000000000001}. Best is trial 10 with value: 0.657680014978605.\n",
      "[I 2023-08-31 16:31:17,266] Trial 97 finished with value: 0.6752568956295356 and parameters: {'alpha': 0.15000000000000002, 'l1_ratio': 0.05}. Best is trial 10 with value: 0.657680014978605.\n",
      "[I 2023-08-31 16:31:18,521] Trial 98 finished with value: 0.6720681915647143 and parameters: {'alpha': 0.1, 'l1_ratio': 0.1}. Best is trial 10 with value: 0.657680014978605.\n",
      "[I 2023-08-31 16:31:19,743] Trial 99 finished with value: 0.6815624945563605 and parameters: {'alpha': 0.05, 'l1_ratio': 0.6000000000000001}. Best is trial 10 with value: 0.657680014978605.\n"
     ]
    }
   ],
   "source": [
    "date_run = datetime.now().strftime(\"%Y%m%d_%H%M%S\")\n",
    "study = optuna.create_study(\n",
    "    direction=\"minimize\",\n",
    "    study_name=f\"elastic_net_{date_run}\"\n",
    ")\n",
    "study.optimize(objective, n_trials=100, callbacks=[mlflc])\n"
   ]
  },
  {
   "cell_type": "code",
   "execution_count": null,
   "metadata": {},
   "outputs": [],
   "source": []
  },
  {
   "cell_type": "code",
   "execution_count": null,
   "metadata": {},
   "outputs": [],
   "source": []
  }
 ],
 "metadata": {
  "kernelspec": {
   "display_name": "wine-quality",
   "language": "python",
   "name": "python3"
  },
  "language_info": {
   "codemirror_mode": {
    "name": "ipython",
    "version": 3
   },
   "file_extension": ".py",
   "mimetype": "text/x-python",
   "name": "python",
   "nbconvert_exporter": "python",
   "pygments_lexer": "ipython3",
   "version": "3.9.16"
  },
  "orig_nbformat": 4
 },
 "nbformat": 4,
 "nbformat_minor": 2
}
